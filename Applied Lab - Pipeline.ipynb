{
 "cells": [
  {
   "cell_type": "markdown",
   "id": "450cd6d5",
   "metadata": {},
   "source": [
    "# Applied Competitive Lab In Data Science"
   ]
  },
  {
   "cell_type": "markdown",
   "id": "199b6712",
   "metadata": {},
   "source": [
    "By: Micha Hashkes, Tamar Ben-Ami, Noa Bitan"
   ]
  },
  {
   "cell_type": "markdown",
   "id": "62d680e6",
   "metadata": {},
   "source": [
    "## Stage 1 - Reading DataFrame from fires DB"
   ]
  },
  {
   "cell_type": "code",
   "execution_count": 1,
   "id": "9fa8566b",
   "metadata": {
    "ExecuteTime": {
     "end_time": "2023-02-16T20:41:49.828695Z",
     "start_time": "2023-02-16T20:41:45.964761Z"
    }
   },
   "outputs": [],
   "source": [
    "import warnings\n",
    "warnings.filterwarnings('ignore')\n",
    "\n",
    "import pandas as pd\n",
    "import geopandas as gpd\n",
    "import numpy as np\n",
    "# import rasterio\n",
    "import requests\n",
    "import sqlite3\n",
    "from config import *\n",
    "import os\n",
    "from sklearn.model_selection import train_test_split\n",
    "from sklearn.ensemble import RandomForestClassifier\n",
    "from sklearn.metrics import classification_report\n",
    "from utils import *"
   ]
  },
  {
   "cell_type": "markdown",
   "id": "a37610f7",
   "metadata": {},
   "source": [
    "## Stage 3 - Pipeline Activation Testing"
   ]
  },
  {
   "cell_type": "code",
   "execution_count": 9,
   "id": "73ebece1",
   "metadata": {
    "ExecuteTime": {
     "end_time": "2023-02-16T20:49:54.412104Z",
     "start_time": "2023-02-16T20:49:21.039462Z"
    }
   },
   "outputs": [],
   "source": [
    "df = create_dataframe()\n",
    "X_train, X_test, y_train, y_test = train_test_split(df.drop(LABEL_FIELD, axis=1), df[LABEL_FIELD], test_size=0.3)\n",
    "train_df = pd.concat([X_train, y_train], axis=1)\n",
    "test_df = pd.concat([X_test, y_test], axis=1)"
   ]
  },
  {
   "cell_type": "code",
   "execution_count": 10,
   "id": "ee2c1016",
   "metadata": {
    "ExecuteTime": {
     "end_time": "2023-02-16T20:49:54.427247Z",
     "start_time": "2023-02-16T20:49:54.414044Z"
    }
   },
   "outputs": [],
   "source": [
    "# train_df = train_df.iloc[:100]\n",
    "# test_df = test_df.iloc[:10]"
   ]
  },
  {
   "cell_type": "code",
   "execution_count": null,
   "id": "be245603",
   "metadata": {
    "ExecuteTime": {
     "start_time": "2023-02-16T20:49:21.480Z"
    },
    "scrolled": true
   },
   "outputs": [
    {
     "name": "stdout",
     "output_type": "stream",
     "text": [
      "electricity_transition_lines\n",
      "electricity_power_plants\n",
      "indian_reserves\n",
      "military_bases\n",
      "national_parks\n",
      "transportation_amtrak_stations\n",
      "transportation_rail_network_lines\n",
      "transportation_rail_network_nodes\n",
      "transportation_railroad_bridges\n",
      "transportation_railroad_grade_crossings\n",
      "water_bodies\n",
      "urban_areas\n",
      "electricity_transition_lines\n",
      "electricity_power_plants\n",
      "indian_reserves\n",
      "military_bases\n",
      "national_parks\n"
     ]
    }
   ],
   "source": [
    "train_gdf, test_gdf = df_to_gdf(train_df), df_to_gdf(test_df)\n",
    "train_gdf, train_features = extract_features_train(train_gdf)\n",
    "test_gdf, test_features = extract_features_test(test_gdf, train_gdf)"
   ]
  },
  {
   "cell_type": "code",
   "execution_count": null,
   "id": "9685bb81",
   "metadata": {
    "ExecuteTime": {
     "start_time": "2023-02-16T20:49:21.766Z"
    }
   },
   "outputs": [],
   "source": [
    "train_gdf[train_features]"
   ]
  },
  {
   "cell_type": "code",
   "execution_count": null,
   "id": "f8f403e4",
   "metadata": {
    "ExecuteTime": {
     "start_time": "2023-02-16T20:49:22.267Z"
    }
   },
   "outputs": [],
   "source": [
    "model = fit_model(train_gdf[train_features], train_gdf[LABEL_FIELD])"
   ]
  },
  {
   "cell_type": "code",
   "execution_count": null,
   "id": "3c146fe3",
   "metadata": {
    "ExecuteTime": {
     "start_time": "2023-02-16T20:49:23.360Z"
    },
    "scrolled": false
   },
   "outputs": [],
   "source": [
    "y_pred = predict_results(test_gdf[train_features], model)\n",
    "print(classification_report(test_gdf[LABEL_FIELD], y_pred))"
   ]
  },
  {
   "cell_type": "code",
   "execution_count": 9,
   "id": "098ea560",
   "metadata": {
    "ExecuteTime": {
     "end_time": "2023-02-16T20:26:44.840884Z",
     "start_time": "2023-02-16T20:26:44.643250Z"
    }
   },
   "outputs": [
    {
     "ename": "AttributeError",
     "evalue": "'RandomForestClassifier' object has no attribute 'feature_names_in_'",
     "output_type": "error",
     "traceback": [
      "\u001b[1;31m---------------------------------------------------------------------------\u001b[0m",
      "\u001b[1;31mAttributeError\u001b[0m                            Traceback (most recent call last)",
      "\u001b[1;32mC:\\Users\\Public\\Documents\\Wondershare\\CreatorTemp\\ipykernel_18076\\883802140.py\u001b[0m in \u001b[0;36m<module>\u001b[1;34m\u001b[0m\n\u001b[1;32m----> 1\u001b[1;33m \u001b[0mplot_feature_importance\u001b[0m\u001b[1;33m(\u001b[0m\u001b[0mmodel\u001b[0m\u001b[1;33m)\u001b[0m\u001b[1;33m\u001b[0m\u001b[1;33m\u001b[0m\u001b[0m\n\u001b[0m",
      "\u001b[1;32m~\\Documents\\HUJI\\Competitive\\Project\\maabadata\\utils.py\u001b[0m in \u001b[0;36mplot_feature_importance\u001b[1;34m(model)\u001b[0m\n\u001b[0;32m    209\u001b[0m     \u001b[0mimportances\u001b[0m \u001b[1;33m=\u001b[0m \u001b[0mmodel\u001b[0m\u001b[1;33m.\u001b[0m\u001b[0mfeature_importances_\u001b[0m\u001b[1;33m\u001b[0m\u001b[1;33m\u001b[0m\u001b[0m\n\u001b[0;32m    210\u001b[0m     \u001b[0msorted_indices\u001b[0m \u001b[1;33m=\u001b[0m \u001b[0mnp\u001b[0m\u001b[1;33m.\u001b[0m\u001b[0margsort\u001b[0m\u001b[1;33m(\u001b[0m\u001b[0mimportances\u001b[0m\u001b[1;33m)\u001b[0m\u001b[1;33m[\u001b[0m\u001b[1;33m:\u001b[0m\u001b[1;33m:\u001b[0m\u001b[1;33m-\u001b[0m\u001b[1;36m1\u001b[0m\u001b[1;33m]\u001b[0m\u001b[1;33m\u001b[0m\u001b[1;33m\u001b[0m\u001b[0m\n\u001b[1;32m--> 211\u001b[1;33m     \u001b[0mfeat_labels\u001b[0m \u001b[1;33m=\u001b[0m \u001b[0mlist\u001b[0m\u001b[1;33m(\u001b[0m\u001b[0mmodel\u001b[0m\u001b[1;33m.\u001b[0m\u001b[0mfeature_names_in_\u001b[0m\u001b[1;33m)\u001b[0m\u001b[1;33m\u001b[0m\u001b[1;33m\u001b[0m\u001b[0m\n\u001b[0m\u001b[0;32m    212\u001b[0m \u001b[1;33m\u001b[0m\u001b[0m\n\u001b[0;32m    213\u001b[0m     \u001b[0mfi\u001b[0m \u001b[1;33m=\u001b[0m \u001b[0mpd\u001b[0m\u001b[1;33m.\u001b[0m\u001b[0mDataFrame\u001b[0m\u001b[1;33m(\u001b[0m\u001b[1;33m{\u001b[0m\u001b[1;34m\"labels\"\u001b[0m\u001b[1;33m:\u001b[0m \u001b[0mfeat_labels\u001b[0m\u001b[1;33m,\u001b[0m \u001b[1;34m\"importance\"\u001b[0m\u001b[1;33m:\u001b[0m \u001b[0mimportances\u001b[0m\u001b[1;33m}\u001b[0m\u001b[1;33m)\u001b[0m\u001b[1;33m\u001b[0m\u001b[1;33m\u001b[0m\u001b[0m\n",
      "\u001b[1;31mAttributeError\u001b[0m: 'RandomForestClassifier' object has no attribute 'feature_names_in_'"
     ]
    }
   ],
   "source": [
    "plot_feature_importance(model)"
   ]
  },
  {
   "cell_type": "markdown",
   "id": "6e01b4ac",
   "metadata": {},
   "source": [
    "## Stage 4 - Pipeline Activation"
   ]
  },
  {
   "cell_type": "markdown",
   "id": "0a44e60a",
   "metadata": {},
   "source": [
    "#### In order to use our model, you'll need:\n",
    "1. put your to_test dataframe in to_test_df variable\n",
    "2. run \"run me\" cell which will create the trained model\n",
    "3. use \"predict_results\" function who takes test_df and a model"
   ]
  },
  {
   "cell_type": "code",
   "execution_count": 7,
   "id": "0e075830",
   "metadata": {},
   "outputs": [],
   "source": [
    "# fill me\n",
    "train_df = None\n",
    "test_df = None"
   ]
  },
  {
   "cell_type": "code",
   "execution_count": 8,
   "id": "a028025d",
   "metadata": {},
   "outputs": [
    {
     "ename": "AttributeError",
     "evalue": "'NoneType' object has no attribute 'LONGITUDE'",
     "output_type": "error",
     "traceback": [
      "\u001b[0;31m---------------------------------------------------------------------------\u001b[0m",
      "\u001b[0;31mAttributeError\u001b[0m                            Traceback (most recent call last)",
      "Input \u001b[0;32mIn [8]\u001b[0m, in \u001b[0;36m<cell line: 1>\u001b[0;34m()\u001b[0m\n\u001b[0;32m----> 1\u001b[0m train_gdf, test_gdf \u001b[38;5;241m=\u001b[39m \u001b[43mdf_to_gdf\u001b[49m\u001b[43m(\u001b[49m\u001b[43mtrain_df\u001b[49m\u001b[43m)\u001b[49m, df_to_gdf(test_df)\n",
      "File \u001b[0;32m~/MyProjects/maabadata/utils.py:164\u001b[0m, in \u001b[0;36mdf_to_gdf\u001b[0;34m(df)\u001b[0m\n\u001b[1;32m    162\u001b[0m \u001b[38;5;28;01mdef\u001b[39;00m \u001b[38;5;21mdf_to_gdf\u001b[39m(df):\n\u001b[1;32m    163\u001b[0m     gdf \u001b[38;5;241m=\u001b[39m gpd\u001b[38;5;241m.\u001b[39mGeoDataFrame(\n\u001b[0;32m--> 164\u001b[0m         df, geometry\u001b[38;5;241m=\u001b[39mgpd\u001b[38;5;241m.\u001b[39mpoints_from_xy(\u001b[43mdf\u001b[49m\u001b[38;5;241;43m.\u001b[39;49m\u001b[43mLONGITUDE\u001b[49m, df\u001b[38;5;241m.\u001b[39mLATITUDE), crs\u001b[38;5;241m=\u001b[39m\u001b[38;5;241m4269\u001b[39m)\n\u001b[1;32m    165\u001b[0m     gdf \u001b[38;5;241m=\u001b[39m gdf\u001b[38;5;241m.\u001b[39mto_crs(\u001b[38;5;241m4326\u001b[39m)\n\u001b[1;32m    166\u001b[0m     gdf[\u001b[38;5;124m'\u001b[39m\u001b[38;5;124mLATITUDE\u001b[39m\u001b[38;5;124m'\u001b[39m] \u001b[38;5;241m=\u001b[39m gdf\u001b[38;5;241m.\u001b[39mgeometry\u001b[38;5;241m.\u001b[39my\n",
      "\u001b[0;31mAttributeError\u001b[0m: 'NoneType' object has no attribute 'LONGITUDE'"
     ]
    }
   ],
   "source": [
    "train_gdf, test_gdf = df_to_gdf(train_df), df_to_gdf(test_df)"
   ]
  },
  {
   "cell_type": "code",
   "execution_count": null,
   "id": "0a350ed7",
   "metadata": {},
   "outputs": [],
   "source": [
    "train_features, test_features = extract_features_train(train_gdf),\\\n",
    "                                extract_features_test(test_gdf, train_gdf)"
   ]
  },
  {
   "cell_type": "code",
   "execution_count": null,
   "id": "23142236",
   "metadata": {},
   "outputs": [],
   "source": [
    "model = fit_model(train_gdf[train_features], train_gdf[LABEL_FIELD])\n",
    "y_pred = predict_results(test_gdf[train_features], model)"
   ]
  }
 ],
 "metadata": {
  "kernelspec": {
   "display_name": "Python 3 (ipykernel)",
   "language": "python",
   "name": "python3"
  },
  "language_info": {
   "codemirror_mode": {
    "name": "ipython",
    "version": 3
   },
   "file_extension": ".py",
   "mimetype": "text/x-python",
   "name": "python",
   "nbconvert_exporter": "python",
   "pygments_lexer": "ipython3",
   "version": "3.7.3"
  },
  "toc": {
   "base_numbering": 1,
   "nav_menu": {},
   "number_sections": true,
   "sideBar": true,
   "skip_h1_title": false,
   "title_cell": "Table of Contents",
   "title_sidebar": "Contents",
   "toc_cell": false,
   "toc_position": {},
   "toc_section_display": true,
   "toc_window_display": false
  }
 },
 "nbformat": 4,
 "nbformat_minor": 5
}
